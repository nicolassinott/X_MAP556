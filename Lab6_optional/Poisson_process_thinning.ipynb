{
 "cells": [
  {
   "attachments": {},
   "cell_type": "markdown",
   "id": "274c0a66",
   "metadata": {},
   "source": [
    "# Simulating Poisson processes with thinning\n",
    "\n",
    "Notebook written by [Manon Michel](manon.michel@uca.fr)\n",
    "\n",
    "The goal here is to experiment around the thinning of inhomogeneous Poisson processes. A Poisson process of rate $\\lambda(t)\\leq \\lambda_M, \\forall t$ can be simulated by considering a bound homogeneous Poisson process of rate $\\lambda_M$:\n",
    "\n",
    "- starting at $\\tau_{0}=0$\n",
    "- generating the event time $\\tau$ of the bound Poisson process of rate $\\lambda_M$\n",
    "- resampling this event as a true event with probability $\\frac{\\lambda(\\tau+\\tau_0)}{\\lambda_M} $\n",
    "- If $\\tau+\\tau_0$ is resampled as the event time of the true Poisson process, output $\\tau+\\tau_0$. If not, update $\\tau_0 = \\tau_0 + \\tau$ and repeat the previous steps.\n",
    "\n",
    "Refs:\n",
    "\n",
    "(1) APA Lewis, P. A., & Shedler, G. S. (1979). Simulation of nonhomogeneous Poisson processes by thinning. Naval Research Logistics Quarterly, 26(3), 403-413."
   ]
  },
  {
   "attachments": {},
   "cell_type": "markdown",
   "id": "d611f9f5",
   "metadata": {},
   "source": [
    "Library importation"
   ]
  },
  {
   "cell_type": "code",
   "execution_count": 1,
   "id": "f7606657",
   "metadata": {},
   "outputs": [],
   "source": [
    "import numpy as np\n",
    "import random, math\n",
    "import matplotlib.pyplot as plt\n",
    "from matplotlib.collections import PatchCollection\n",
    "import matplotlib.lines as mlines\n",
    "from matplotlib.ticker import FixedLocator\n",
    "\n",
    "plt.rcParams['xtick.major.size'] = 8\n",
    "plt.rcParams['xtick.minor.size'] = 8\n",
    "plt.rcParams['ytick.major.size'] = 8\n",
    "plt.rcParams['ytick.minor.size'] = 8"
   ]
  },
  {
   "attachments": {},
   "cell_type": "markdown",
   "id": "f4c98e8f",
   "metadata": {},
   "source": [
    "We consider the problem of simulating from the first event time of a non-homogenous Poisson process of rate $\\lambda$:\n",
    "$$\\lambda(t) = max(\\sin(t),0), \\forall t\\geq 0 $$"
   ]
  },
  {
   "attachments": {},
   "cell_type": "markdown",
   "id": "b2e8fcec",
   "metadata": {},
   "source": [
    "1. Find $\\lambda_M$ such that $\\lambda_M\\geq \\lambda(t), \\forall t$\n",
    "In the code below, please,\n",
    "2. Assign a correct value to `self.lambda_M`\n",
    "3. Code the `homogeneousPP_generation` routine which outputs the first event time of a Poisson process of homogeneous rate `self.lambda_M` by inversion sampling\n",
    "4. Code the `thinning_generation` routine which outputs the first event time of the inhomogeneous Poisson process of rate $\\lambda(t)$ (given by the routine `lambda_rate`) by thinning using the PP of rate $\\lambda_M$\n",
    "5. Code the `theoretical_arrival` routine which outputs the probability of a given time to be the first event time of the target inhomogeneous PP\n"
   ]
  },
  {
   "attachments": {},
   "cell_type": "markdown",
   "id": "1d668a18",
   "metadata": {},
   "source": [
    "Theoretical Answers:\n",
    "\n",
    "1) We have that $\\lambda(t) = \\max(\\sin(t), 0) \\leq 1, \\forall t \\geq 0$, we can therefore set $\\lambda_{M} = 1$.\n",
    "\n",
    "2) We can simply initialize by setting $\\lambda_{M} = 1$ in the __init__ function.\n",
    "\n",
    "3) The first event time of a Poisson process of homogeneous rate is an exponential random variable of same rate. Let $X \\sim \\mathcal{E}(\\lambda_{M})$, we can simulate this random variable by inversion sampling. Let us first compute the inverse of its cumulative distribution:\n",
    "\n",
    "$$\n",
    "F_{X}(x) = \\int_{0}^{x} \\lambda_{M}e^{-\\lambda_{M}s}ds = 1 - e^{-\\lambda_{M}x}\n",
    "$$\n",
    "\n",
    "$$\n",
    "F_{X}^{-1}(x) = - \\frac{1}{\\lambda_{M}} \\log(1 - x)\n",
    "$$\n",
    "\n",
    "Using the fact that $X\\sim \\mathcal{U}([0,1])\\sim - X$ have the same law, we can therefore perform the inversion sampling using $U \\sim \\mathcal{U}([0,1])$\n",
    "\n",
    "$$\n",
    "T = -\\frac{1}{\\lambda_{M}} \\log(U)\n",
    "$$\n",
    "\n",
    "4) Find the implementation below.\n",
    "\n",
    "5) For each time $t$ this is exactly, up to a normalization factor:\n",
    "\n",
    "$$\n",
    "f(t) = \\lambda(t) e^{-\\lambda(t)t}\n",
    "$$\n"
   ]
  },
  {
   "cell_type": "code",
   "execution_count": 15,
   "id": "93ec76c4",
   "metadata": {},
   "outputs": [],
   "source": [
    "class max_cos_PP:\n",
    "    def __init__(self,lambda_M = 1):\n",
    "        # Parameter initialization\n",
    "        self.lambda_M = lambda_M\n",
    "    \n",
    "    def lambda_rate(self,t):\n",
    "        return max(0,math.sin(t))\n",
    "    \n",
    "    def homogeneousPP_generation(self):\n",
    "        # Write a routine generating the event times of the\n",
    "        # homogeneous PP of rate lambda_M\n",
    "        \n",
    "        U = np.random.random()\n",
    "        \n",
    "        return - np.log(U) / self.lambda_M\n",
    "        \n",
    "    def direct_generation(self):\n",
    "        # Routine generating by inversion the event times\n",
    "        # of the PP of rate lambda    \n",
    "        ran_tot = -math.log(random.uniform(0.0,1.0))\n",
    "        tau = 2.0 * math.pi * (ran_tot//2)\n",
    "        ran_tot = ran_tot % 2.0\n",
    "        tau +=  math.acos(1-ran_tot)\n",
    "        return tau\n",
    "        \n",
    "    def thinning_generation(self):\n",
    "        # Write a routine generating the event times of the\n",
    "        # PP of rate lambda by thinning\n",
    "        \n",
    "        tau0 = 0\n",
    "        tau = self.homogeneousPP_generation()\n",
    "        \n",
    "        while np.random.random() > self.lambda_rate(tau + tau0) / self.lambda_M:\n",
    "            tau0 += tau\n",
    "            tau = self.homogeneousPP_generation()\n",
    "            \n",
    "        return tau + tau0\n",
    "            \n",
    "    def theoretical_arrival(self,t):\n",
    "        # Write a routine generating the probability \n",
    "        # value for t to be the first arrival time \n",
    "        # of the target PP\n",
    "        lamb = self.lambda_rate(t)\n",
    "        return lamb * np.exp(-lamb*t)"
   ]
  },
  {
   "attachments": {},
   "cell_type": "markdown",
   "id": "5db3b1a5",
   "metadata": {},
   "source": [
    "6. Compare the normed histograms of the first event times obtained with the `direct_generation`(directly sampling by inversion of the inhomogeneous PP), the `thinning_generation` and the theoretical value. Compare to the normed histogram of the first event times of the bound homogeneous PP of rate $\\lambda_M$."
   ]
  },
  {
   "cell_type": "code",
   "execution_count": 30,
   "id": "08fe996c",
   "metadata": {},
   "outputs": [
    {
     "data": {
      "image/png": "[encoded data removed]",
      "text/plain": [
       "<Figure size 640x480 with 1 Axes>"
      ]
     },
     "metadata": {},
     "output_type": "display_data"
    }
   ],
   "source": [
    "N = 1000\n",
    "\n",
    "direct_simulations = np.zeros(N)\n",
    "thinning_simulations = np.zeros(N)\n",
    "proc = max_cos_PP()\n",
    "\n",
    "for i in range(N):\n",
    "    direct_simulations[i] = proc.direct_generation()\n",
    "    thinning_simulations[i] = proc.thinning_generation()\n",
    "    \n",
    "xs = np.linspace(0, 25, 10000)\n",
    "theoretical = [proc.theoretical_arrival(x) for x in xs]\n",
    "\n",
    "plt.hist(direct_simulations, label = 'Direct simulations', density=True, bins = 60)\n",
    "plt.hist(thinning_simulations, label = 'Thinning simulations', density=True, bins = 60, alpha = 0.8)\n",
    "plt.plot(xs, theoretical)\n",
    "plt.title('Histogram plots normalized for both direct and thinning simulations')\n",
    "plt.legend()\n",
    "plt.show()"
   ]
  },
  {
   "attachments": {},
   "cell_type": "markdown",
   "id": "34625ad4",
   "metadata": {},
   "source": [
    "7. Compare the cumulative histograms of the first event times obtained with the `direct_generation`(directly sampling by inversion of the inhomogeneous PP), the `thinning_generation` and the theoretical values. Compare also to the cumulative histogram of the first event times of the bound homogeneous PP of rate $\\lambda_M$. Confirm why the thinning method is correct."
   ]
  },
  {
   "cell_type": "code",
   "execution_count": null,
   "id": "a8f02e95",
   "metadata": {},
   "outputs": [],
   "source": []
  },
  {
   "attachments": {},
   "cell_type": "markdown",
   "id": "84eabd29",
   "metadata": {},
   "source": [
    "8. How is the number of generated bound events required to resample a true one behaving with $\\lambda_M$? Please, provide a plot.\n",
    "9. What is a good choice for $\\lambda_M$? (the smallest one!)"
   ]
  },
  {
   "cell_type": "code",
   "execution_count": null,
   "id": "1643c9d0",
   "metadata": {},
   "outputs": [],
   "source": []
  },
  {
   "attachments": {},
   "cell_type": "markdown",
   "id": "e36d56d8",
   "metadata": {},
   "source": [
    "We consider the problem of simulating from the first event time of a non-homogenous Poisson process of rate $\\lambda$:\n",
    "$$\\lambda(t) = t, \\forall t\\geq 0 $$"
   ]
  },
  {
   "attachments": {},
   "cell_type": "markdown",
   "id": "2b211015",
   "metadata": {},
   "source": [
    "10. This cannot be bounded by a homogeneous rate. What alternative strategy could you think of?\n",
    "\n",
    "In the code below, please,\n",
    "\n",
    "11. Code the `lambda_M_rate` routine which outputs the rate at time t of the inhomongeneous bound PP\n",
    "\n",
    "12. Code the `bound_PP_generation` routine which outputs by inversion sampling the first event time of a Poisson process whose rate $\\lambda_M(t)$ bounds $\\lambda$ \n",
    "\n",
    "13. Code the `thinning_generation` routine which outputs the first event time of the inhomogeneous Poisson process of rate $\\lambda(t)$ (given by the routine `lambda_rate`) by thinning using the inhomogeneous PP of rate $\\lambda_M$\n",
    "\n",
    "14. Code the `theoretical_target_arrival` routine which outputs the probability of a given time to be the first event time of the target inhomogeneous PP\n",
    "\n",
    "15. Code the `theoretical_bound_arrival` routine which outputs the probability of a given time to be the first event time of the target bound inhomogeneous PP\n"
   ]
  },
  {
   "attachments": {},
   "cell_type": "markdown",
   "id": "80c397fc",
   "metadata": {},
   "source": [
    "Answer:\n",
    "\n",
    "10) We can propose a $\\lambda_{M}$ that changes with time"
   ]
  },
  {
   "cell_type": "code",
   "execution_count": 232,
   "id": "6abe1cc8",
   "metadata": {},
   "outputs": [],
   "source": [
    "class linear_PP:\n",
    "    def __init__(self,T_M):\n",
    "        # Parameter initialization\n",
    "        self.T_M = T_M\n",
    "    \n",
    "    def lambda_rate(self,t):\n",
    "        return t\n",
    "        \n",
    "    def lambda_M_rate(self,t):\n",
    "        return \n",
    "    \n",
    "    def bound_PP_generation(self,tau_0):\n",
    "        # Write a routine generating the event times of the\n",
    "        # inhomogeneous PP of rate lambda_M\n",
    "        return\n",
    "        \n",
    "    def direct_generation(self):\n",
    "        # Routine generating by inversion the event times\n",
    "        # of the PP of rate lambda    \n",
    "        ran_tot = -math.log(random.uniform(0.0,1.0))\n",
    "        tau = (2.0 * ran_tot)**0.5\n",
    "        return tau\n",
    "        \n",
    "    def thinning_generation(self):\n",
    "        # Write a routine generating the event times of the\n",
    "        # PP of rate lambda by thinning\n",
    "        return\n",
    "            \n",
    "    def theoretical_bound_arrival(self,t):\n",
    "        # Write a routine generating the probability \n",
    "        # value for t to be the first arrival time \n",
    "        # of the bound PP\n",
    "        return       \n",
    "            \n",
    "    def theoretical_target_arrival(self,t):   \n",
    "        # Write a routine generating the probability \n",
    "        # value for t to be the first arrival time \n",
    "        # of the target PP   \n",
    "        return "
   ]
  },
  {
   "attachments": {},
   "cell_type": "markdown",
   "id": "2ee0c975",
   "metadata": {},
   "source": [
    "13. Compare the normed histograms of the first event times obtained with the `direct_generation`(directly sampling by inversion of the inhomogeneous PP), the `thinning_generation` and the theoretical values. Compare to the normed histogram of the event times of the inhomogeneous bound PP of rate $\\lambda_M$ and to the theoretical values for the bound PP."
   ]
  },
  {
   "cell_type": "code",
   "execution_count": null,
   "id": "edfa21df",
   "metadata": {},
   "outputs": [],
   "source": []
  },
  {
   "attachments": {},
   "cell_type": "markdown",
   "id": "093100ee",
   "metadata": {},
   "source": [
    "6. Validate the thinning strategy by comparing the cumulative histograms and theoretical values of the first event times obtained with the `direct_generation`(directly sampling by inversion of the inhomogeneous PP), the `thinning_generation` and  of the bound homogeneous PP of rate $\\lambda_M$."
   ]
  },
  {
   "cell_type": "code",
   "execution_count": null,
   "id": "8f7f1b05",
   "metadata": {},
   "outputs": [],
   "source": []
  }
 ],
 "metadata": {
  "kernelspec": {
   "display_name": "Python 3 (ipykernel)",
   "language": "python",
   "name": "python3"
  },
  "language_info": {
   "codemirror_mode": {
    "name": "ipython",
    "version": 3
   },
   "file_extension": ".py",
   "mimetype": "text/x-python",
   "name": "python",
   "nbconvert_exporter": "python",
   "pygments_lexer": "ipython3",
   "version": "3.11.4"
  }
 },
 "nbformat": 4,
 "nbformat_minor": 5
}
