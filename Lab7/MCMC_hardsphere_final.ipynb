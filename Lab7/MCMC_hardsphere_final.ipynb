{
 "cells": [
  {
   "cell_type": "markdown",
   "metadata": {},
   "source": [
    "# Simulating hard spheres with Monte Carlo\n",
    "\n",
    "Notebook written by [Manon Michel](manon.michel@uca.fr)\n",
    "\n",
    "The goal here is to sample hard spheres systems. \n",
    "\n",
    "Hard spheres interact through an exclusion force, meaning that they cannot overlap. For a given diameter $\\sigma>0$, the stationary probability distribution for of $N$ spheres in dimension $d$ in a square box of size $L$ with periodic boundaries has density with respect to the Lebesgue measure given by  $$\\pi(x) = \\prod_{i=1}^n\\left( \\prod_{k=1}^d\\mathbb{1}(x_{i,k} >0)\\mathbb{1}(x_{i,k} - L <0)\\prod_{j<i} \\mathbb{1}(||x_i-x_j||_2 - \\sigma > 0) \\right) \\, .$$\n",
    "Here $x \\in \\mathbb{R}^{d\\times N}$ is a configuration of $N$ spheres at coordinates $x_i \\in \\mathbb{R}^d$ with $i \\in \\{1,\\ldots,N\\}$."
   ]
  },
  {
   "cell_type": "code",
   "execution_count": 1,
   "id": "f7606657",
   "metadata": {},
   "outputs": [],
   "source": [
    "import numpy as np\n",
    "import random, math\n",
    "import matplotlib.pyplot as plt\n",
    "from matplotlib.ticker import FixedLocator\n",
    "\n",
    "plt.rcParams['xtick.major.size'] = 8\n",
    "plt.rcParams['xtick.minor.size'] = 8\n",
    "plt.rcParams['ytick.major.size'] = 8\n",
    "plt.rcParams['ytick.minor.size'] = 8"
   ]
  },
  {
   "cell_type": "markdown",
   "id": "8fae6a79",
   "metadata": {},
   "source": [
    "## 1) Two schemes for rejection sampling\n",
    "\n",
    "We set $d=2$, $N=4$, $\\sigma=1$ and $L=16$. \n",
    "\n",
    "> 1. Use the following code to generate 10000 configurations with both reject-sampling routines.\n",
    "> 2. Plot the histograms of the interdistance between spheres (one plot) and of the x-coordinate and y-coordinate of the sphere positions (another plot) and compare both algorithms.\n",
    "> 3. Plot the cumulative histograms of the interdistance between spheres (one plot) and of the x-coordinate and y-coordinate of the sphere positions (another plot) and compare both algorithms."
   ]
  },
  {
   "cell_type": "code",
   "execution_count": 2,
   "id": "63ca4af7",
   "metadata": {},
   "outputs": [],
   "source": [
    "class periodic_hard_sphere:\n",
    "    def __init__(self,N=4, d=2, sigma=1.0, L = 16):\n",
    "        # Parameter initialization\n",
    "        self.N = N #number of spheres\n",
    "        self.d = d #dimension of box\n",
    "        self.sigma = sigma #sphere diameter\n",
    "        self.L = L #length of square box\n",
    "    \n",
    "    def get_periodic_distance(self, x_1,x_2):        \n",
    "        delta_x = x_1-x_2\n",
    "        diff_x_periodic = min(abs(delta_x[0]),self.L-abs(delta_x[0]))\n",
    "        diff_y_periodic = min(abs(delta_x[1]),self.L-abs(delta_x[1]))\n",
    "        d_sq = diff_x_periodic ** 2.0 + diff_y_periodic ** 2.0\n",
    "        return d_sq**0.5\n",
    "    \n",
    "    def pair_overlap_check(self,x_1, x_2):\n",
    "        d = self.get_periodic_distance(x_1,x_2)\n",
    "        if d < self.sigma:\n",
    "            return True  #There is an overlap          \n",
    "        return False\n",
    "    \n",
    "    def generate_sphere_position(self):\n",
    "        x_i_new = self.L * np.random.uniform(size=2) \n",
    "        return x_i_new\n",
    "        \n",
    "    def rejection_sampling_1(self):\n",
    "        x = []\n",
    "        while len(x) < self.N:\n",
    "            overlapping_proposition = True\n",
    "            while overlapping_proposition:\n",
    "                x_i_new = self.generate_sphere_position()\n",
    "                overlapping_proposition = False\n",
    "                for x_j in x:\n",
    "                    if self.pair_overlap_check(x_j,x_i_new):\n",
    "                        overlapping_proposition = True\n",
    "                        break\n",
    "            x += [x_i_new]\n",
    "        return x\n",
    "    \n",
    "       \n",
    "    def rejection_sampling_2(self):                    \n",
    "        x = []\n",
    "        while  len(x) < self.N:\n",
    "            while len(x) < self.N:\n",
    "                x_i_new = self.generate_sphere_position()\n",
    "                overlapping_proposition = False\n",
    "                for x_j in x:\n",
    "                    if self.pair_overlap_check(x_j,x_i_new):\n",
    "                        overlapping_proposition = True\n",
    "                        break\n",
    "                if overlapping_proposition:\n",
    "                    x = []\n",
    "                    break\n",
    "                x += [x_i_new]\n",
    "        return x    \n",
    "   "
   ]
  },
  {
   "cell_type": "markdown",
   "id": "434da01c",
   "metadata": {},
   "source": [
    ">  4. Do you have agreement betwee the two methods? "
   ]
  },
  {
   "cell_type": "markdown",
   "id": "579b8258",
   "metadata": {},
   "source": [
    "> 5. Is the obtained histograms consistent with the expression of $\\pi$?\n",
    "> 6. Redo the experience with $L=3$. What happens?"
   ]
  },
  {
   "cell_type": "markdown",
   "id": "22f5bfeb",
   "metadata": {},
   "source": [
    ">  7. Do you have agreement betwee the two methods? "
   ]
  },
  {
   "cell_type": "markdown",
   "id": "d90a703c",
   "metadata": {},
   "source": [
    "## 2) Adding hard walls\n",
    "\n",
    "We consider now the stationary probability density for a configuration $x$ composed of the coordinates $(x_i)_i$ of $N$ spheres in dimension $d$ in a square box of size $L$ with **hard walls**: $$\\pi(x) \\propto \\prod_{i=1}^N \\left( \\prod_{k=1}^d\\mathbb{1}(x_{i,k} - \\frac{\\sigma}{2}>0)\\mathbb{1}(x_{i,k} - L + \\frac{\\sigma}{2}<0)\\prod_{j<i} \\mathbb{1}(||x_i-x_j||_2 - \\sigma > 0) \\right)\\, .$$\n",
    "\n",
    "We set $d=2$, $N=4$, $\\sigma=1$ and $L=3$. \n",
    "\n",
    "> 8. Create a class  ```hardwall_hard_sphere```  to simulate a system of spheres within hard walls in two dimensions, adapting the class for the periodic case.\n",
    "> 9. Sample with both rejection methods 10000 configurations. Output the same histograms of interdistance and coordinates as previously done."
   ]
  },
  {
   "cell_type": "markdown",
   "id": "c363b41a",
   "metadata": {},
   "source": [
    "> 10. Do you have agreement between the two methods? Is a method not correct?\n",
    "> 11. Are both methods still correct in the periodic case though?\n",
    "> 12. Comment the shape of the obtained stationary distribution of the x- and y-coordinates, for instance is it surprising it is not uniform anymore? (To go further: https://en.wikipedia.org/wiki/Depletion_force)\n",
    "> 13. Redo the simulations for $L=16$, are the effects observed in $L=3$ also present here?"
   ]
  },
  {
   "cell_type": "markdown",
   "id": "995b3968",
   "metadata": {},
   "source": [
    "## 3) Markov-Chain Monte Carlo\n",
    "\n",
    "We now consider a sampling based on a Markov chain for the hard-wall case which is defined as follows for $\\delta >0$.\n",
    "Given the current point $X^k= (X_i^k)_{i=1}^N \\in \\mathbb{R}^{d\\times N}$:\n",
    "- a) Sample from $i^{k+1} \\in \\{1,\\ldots,N\\}$ uniformly \n",
    "- b) Propose $Y^{k+1}_{i^{k+1}} = X^k_{i^{k+1}} + \\delta Z^{k+1}$ where $Z^{k+1} \\sim \\mathrm{N}(0,\\delta^2 \\mathrm{Id})$ is independent from the past, and $Y^{k+1}_i = X^{k+1}_i$ for $i \\neq i^{k+1}$.\n",
    "- c) Set $X^{k+1}$ from $X^k$ and $Y^{k+1}$ using the Metropolis-Hastings accept-reject step seen in course.\n",
    "\n",
    "> 14. Complete the class ```hardwall_hard_sphere``` to include a routine producing samples obtained by a Markov-chain Monte Carlo method. For instance, consider a Metropolis-like scheme with a Markov kernel proposing to move a single random sphere by a small Gaussian increment ($\\mathcal{N}(0,\\delta^2)$) each time.\n",
    "> 15. For $N=4, L=3$, generate 10000 samples by the Markov-chain and rejection sampling scheme of your choice. Output also the averaged acceptance rates of the reject sampling and Markov-chain sampling scheme. Compare the obtained histograms of the interdistance between spheres and of the x- and y-coordinates of spheres.\n",
    "> 16. What can you say about the apparent speed of convergence of both methods? Take into account the acceptance rates and the number of moved spheres between successive configurations in your analysis.\n",
    "> 17. For $N=4, L =2.5$, redo the simulations (you can choose to generate only 1000 configurations). What can you say about the acceptance rates of both methods? How did you choose the $\\delta$ value?\n",
    "> 18. Comment the stationary distribution for a sphere position."
   ]
  },
  {
   "cell_type": "markdown",
   "metadata": {},
   "source": [
    "## The following are **optional questions**"
   ]
  },
  {
   "cell_type": "markdown",
   "id": "f78af965",
   "metadata": {},
   "source": [
    "> 19. Complete the class ```periodic_hard_sphere``` to include a routine producing samples obtained by a Markov-chain Monte Carlo method similar to the previously coded one.\n",
    "> 15. For $N=4, L=2.5$ generate 10000 samples by the Markov-chain and rejection sampling scheme of your choice. Output also the averaged acceptance rates of the reject sampling and Markov-chain sampling scheme. Compare the obtained histograms of the interdistance between spheres and of the x- and y-coordinates of spheres. \n",
    "> 16. What can you say about the apparent speed of convergence and acceptance rates of both methods compared to the hardwall case? Is it surprising?"
   ]
  },
  {
   "cell_type": "code",
   "execution_count": null,
   "id": "12a8e8c4",
   "metadata": {},
   "outputs": [],
   "source": []
  }
 ],
 "metadata": {
  "kernelspec": {
   "display_name": "Python 3 (ipykernel)",
   "language": "python",
   "name": "python3"
  },
  "language_info": {
   "codemirror_mode": {
    "name": "ipython",
    "version": 3
   },
   "file_extension": ".py",
   "mimetype": "text/x-python",
   "name": "python",
   "nbconvert_exporter": "python",
   "pygments_lexer": "ipython3",
   "version": "3.11.0"
  }
 },
 "nbformat": 4,
 "nbformat_minor": 5
}
